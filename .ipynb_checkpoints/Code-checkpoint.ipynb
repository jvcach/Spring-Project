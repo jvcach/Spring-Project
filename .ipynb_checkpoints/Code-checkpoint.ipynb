{
 "cells": [
  {
   "cell_type": "code",
   "execution_count": 3,
   "metadata": {},
   "outputs": [
    {
     "data": {
      "text/plain": [
       "[{'exchange': 'blockchain', 'currency': 'USD', 'value': 5891.26},\n",
       " {'exchange': 'bitfinex', 'currency': 'USD', 'value': 6238.1},\n",
       " {'exchange': 'btccharts', 'currency': 'USD', 'value': 5865.37},\n",
       " {'exchange': 'coinbase', 'currency': 'USD', 'value': False},\n",
       " {'exchange': 'bitpay', 'currency': 'USD', 'value': 5896.63}]"
      ]
     },
     "execution_count": 3,
     "metadata": {},
     "output_type": "execute_result"
    }
   ],
   "source": [
    "import requests\n",
    "import json\n",
    "\n",
    "# request the different cryptocurrencies, bring back their value in USD\n",
    "\n",
    "response = requests.get(\"https://community-bitcointy.p.rapidapi.com/all/USD\",\n",
    "  headers={\n",
    "    \"X-RapidAPI-Host\": \"community-bitcointy.p.rapidapi.com\",\n",
    "    \"X-RapidAPI-Key\": \"99b56d77b2msh4fbf746aa5bc231p10dd77jsnf3b5f9868231\"\n",
    "  }\n",
    ")\n",
    "requests= response.json()\n",
    "requests"
   ]
  },
  {
   "cell_type": "code",
   "execution_count": 4,
   "metadata": {},
   "outputs": [
    {
     "name": "stdout",
     "output_type": "stream",
     "text": [
      "[{'exchange': 'blockchain', 'value': 5908.2}, {'exchange': 'bitfinex', 'value': 6257.4}, {'exchange': 'btccharts', 'value': 5806.88}, {'exchange': 'coinbase', 'value': False}, {'exchange': 'bitpay', 'value': 5903.9}]\n"
     ]
    }
   ],
   "source": [
    "# portfolio with the different cryptocurrencies\n",
    "portfolio = [\n",
    "    { 'exchange' : 'blockchain', 'value' : 5908.20},\n",
    "    { 'exchange' : 'bitfinex', 'value' : 6257.40},\n",
    "    { 'exchange' : 'btccharts', 'value' : 5806.88},\n",
    "    { 'exchange' : 'coinbase', 'value' : False},\n",
    "    { 'exchange' : 'bitpay', 'value' : 5903.90},\n",
    "]\n",
    " # one crypotcurrency has no monetary value. Therefore false\n",
    "\n",
    "print(portfolio[:])\n",
    "#printing the cryptocurrency and the value of one stock."
   ]
  },
  {
   "cell_type": "code",
   "execution_count": 5,
   "metadata": {},
   "outputs": [
    {
     "data": {
      "text/html": [
       "<div>\n",
       "<style scoped>\n",
       "    .dataframe tbody tr th:only-of-type {\n",
       "        vertical-align: middle;\n",
       "    }\n",
       "\n",
       "    .dataframe tbody tr th {\n",
       "        vertical-align: top;\n",
       "    }\n",
       "\n",
       "    .dataframe thead th {\n",
       "        text-align: right;\n",
       "    }\n",
       "</style>\n",
       "<table border=\"1\" class=\"dataframe\">\n",
       "  <thead>\n",
       "    <tr style=\"text-align: right;\">\n",
       "      <th></th>\n",
       "      <th>Crypto</th>\n",
       "      <th>Currency</th>\n",
       "      <th>MoneyValue</th>\n",
       "    </tr>\n",
       "  </thead>\n",
       "  <tbody>\n",
       "    <tr>\n",
       "      <th>0</th>\n",
       "      <td>blockchain</td>\n",
       "      <td>USD</td>\n",
       "      <td>5908.29</td>\n",
       "    </tr>\n",
       "    <tr>\n",
       "      <th>3</th>\n",
       "      <td>coinbase</td>\n",
       "      <td>USD</td>\n",
       "      <td>False</td>\n",
       "    </tr>\n",
       "    <tr>\n",
       "      <th>2</th>\n",
       "      <td>btccharts</td>\n",
       "      <td>USD</td>\n",
       "      <td>5806.88</td>\n",
       "    </tr>\n",
       "    <tr>\n",
       "      <th>4</th>\n",
       "      <td>bitpay</td>\n",
       "      <td>USD</td>\n",
       "      <td>5903.9</td>\n",
       "    </tr>\n",
       "    <tr>\n",
       "      <th>1</th>\n",
       "      <td>bitfinex</td>\n",
       "      <td>USD</td>\n",
       "      <td>6257.4</td>\n",
       "    </tr>\n",
       "  </tbody>\n",
       "</table>\n",
       "</div>"
      ],
      "text/plain": [
       "       Crypto  Currency  MoneyValue\n",
       "0  blockchain       USD     5908.29\n",
       "3    coinbase       USD       False\n",
       "2   btccharts       USD     5806.88\n",
       "4      bitpay       USD      5903.9\n",
       "1    bitfinex       USD      6257.4"
      ]
     },
     "execution_count": 5,
     "metadata": {},
     "output_type": "execute_result"
    }
   ],
   "source": [
    "import pandas as pd\n",
    "import numpy as np\n",
    "\n",
    "# this turns off warning messages\n",
    "import warnings\n",
    "warnings.filterwarnings('ignore')\n",
    "\n",
    "dtype={'currency' : object}\n",
    "\n",
    "crypto = pd.read_csv('BitcointyCryptocurrecny.csv')\n",
    "crypto.sample(5)\n"
   ]
  },
  {
   "cell_type": "code",
   "execution_count": 6,
   "metadata": {},
   "outputs": [
    {
     "data": {
      "text/html": [
       "<div>\n",
       "<style scoped>\n",
       "    .dataframe tbody tr th:only-of-type {\n",
       "        vertical-align: middle;\n",
       "    }\n",
       "\n",
       "    .dataframe tbody tr th {\n",
       "        vertical-align: top;\n",
       "    }\n",
       "\n",
       "    .dataframe thead th {\n",
       "        text-align: right;\n",
       "    }\n",
       "</style>\n",
       "<table border=\"1\" class=\"dataframe\">\n",
       "  <thead>\n",
       "    <tr style=\"text-align: right;\">\n",
       "      <th></th>\n",
       "      <th>Crypto</th>\n",
       "      <th>Currency</th>\n",
       "      <th>MoneyValue</th>\n",
       "    </tr>\n",
       "  </thead>\n",
       "  <tbody>\n",
       "    <tr>\n",
       "      <th>0</th>\n",
       "      <td>blockchain</td>\n",
       "      <td>USD</td>\n",
       "      <td>5908.29</td>\n",
       "    </tr>\n",
       "    <tr>\n",
       "      <th>1</th>\n",
       "      <td>bitfinex</td>\n",
       "      <td>USD</td>\n",
       "      <td>6257.4</td>\n",
       "    </tr>\n",
       "    <tr>\n",
       "      <th>2</th>\n",
       "      <td>btccharts</td>\n",
       "      <td>USD</td>\n",
       "      <td>5806.88</td>\n",
       "    </tr>\n",
       "    <tr>\n",
       "      <th>3</th>\n",
       "      <td>coinbase</td>\n",
       "      <td>USD</td>\n",
       "      <td>False</td>\n",
       "    </tr>\n",
       "    <tr>\n",
       "      <th>4</th>\n",
       "      <td>bitpay</td>\n",
       "      <td>USD</td>\n",
       "      <td>5903.9</td>\n",
       "    </tr>\n",
       "  </tbody>\n",
       "</table>\n",
       "</div>"
      ],
      "text/plain": [
       "       Crypto  Currency  MoneyValue\n",
       "0  blockchain       USD     5908.29\n",
       "1    bitfinex       USD      6257.4\n",
       "2   btccharts       USD     5806.88\n",
       "3    coinbase       USD       False\n",
       "4      bitpay       USD      5903.9"
      ]
     },
     "execution_count": 6,
     "metadata": {},
     "output_type": "execute_result"
    }
   ],
   "source": [
    "cryptocurrencies_df=pd.DataFrame(crypto)\n",
    "cryptocurrencies_df\n"
   ]
  },
  {
   "cell_type": "code",
   "execution_count": 7,
   "metadata": {},
   "outputs": [],
   "source": [
    "%matplotlib inline \n",
    "\n",
    "import matplotlib\n",
    "import matplotlib.pyplot as plt\n",
    "import plotly \n",
    "import plotly.plotly as py     \n",
    "import plotly.graph_objs as go  \n",
    "import cufflinks as cf\n",
    "import pandas as pd\n",
    "import folium\n",
    "import warnings\n",
    "\n",
    "#matplotlib.rcParams['figure.figsize'] = (20.0, 10.0) # larger figure size\n",
    "\n",
    "warnings.filterwarnings('ignore')"
   ]
  },
  {
   "cell_type": "code",
   "execution_count": 19,
   "metadata": {},
   "outputs": [
    {
     "data": {
      "text/plain": [
       "<matplotlib.axes._subplots.AxesSubplot at 0x1784d43bcc0>"
      ]
     },
     "execution_count": 19,
     "metadata": {},
     "output_type": "execute_result"
    },
    {
     "data": {
      "image/png": "[encoded data removed]",
      "text/plain": [
       "<Figure size 432x288 with 1 Axes>"
      ]
     },
     "metadata": {},
     "output_type": "display_data"
    }
   ],
   "source": [
    "crypto = pd.read_csv('BitcointyCryptocurrecny.csv')\n",
    "\n",
    "cur= crypto['Crypto'].value_counts()\n",
    "cur_df=pd.DataFrame( {'Currency' : cur.index, \"counts\" : cur}) \n",
    "cur_df.plot.pie(y= 'counts')\n"
   ]
  },
  {
   "cell_type": "code",
   "execution_count": 22,
   "metadata": {
    "scrolled": false
   },
   "outputs": [
    {
     "name": "stdout",
     "output_type": "stream",
     "text": [
      "blockchain, USD, 5908.29\n",
      "bitfinex, USD, 6257.4\n",
      "btccharts, USD,5806.88\n",
      "coinbase, USD, False\n",
      "bitpay, USD, 5903.9\n",
      "bitpay, USD, 5903.9\n"
     ]
    }
   ],
   "source": [
    "#Another way to find the file with \n",
    "# A text file was created with the cyrptocurrecnies \n",
    "filename = \"BitcointyCyrptocurrency.txt\"\n",
    "with open(filename, 'r') as f:\n",
    "    for line in f.readlines():\n",
    "        print(line.strip())        \n",
    "print(line)"
   ]
  },
  {
   "cell_type": "code",
   "execution_count": 34,
   "metadata": {},
   "outputs": [],
   "source": [
    "filename = \"BitcointyCyrptocurrency.txt\"\n",
    "with open(filename, 'r') as f:\n",
    "    for line in f.readlines():\n",
    "        if line.startswith(\"USD\"):\n",
    "            print(line.strip())        \n"
   ]
  },
  {
   "cell_type": "code",
   "execution_count": null,
   "metadata": {},
   "outputs": [],
   "source": []
  },
  {
   "cell_type": "code",
   "execution_count": null,
   "metadata": {},
   "outputs": [],
   "source": []
  }
 ],
 "metadata": {
  "kernelspec": {
   "display_name": "Python 3",
   "language": "python",
   "name": "python3"
  },
  "language_info": {
   "codemirror_mode": {
    "name": "ipython",
    "version": 3
   },
   "file_extension": ".py",
   "mimetype": "text/x-python",
   "name": "python",
   "nbconvert_exporter": "python",
   "pygments_lexer": "ipython3",
   "version": "3.6.6"
  }
 },
 "nbformat": 4,
 "nbformat_minor": 2
}
